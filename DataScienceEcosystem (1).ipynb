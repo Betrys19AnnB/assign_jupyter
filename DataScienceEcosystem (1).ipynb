{
 "cells": [
  {
   "cell_type": "code",
   "execution_count": null,
   "id": "6551fdc4-b516-4a83-ae7d-c77f0fb0203a",
   "metadata": {},
   "outputs": [],
   "source": [
    "# Data Science Tools and Ecosystem"
   ]
  },
  {
   "cell_type": "markdown",
   "id": "5a5ca77a-6ea5-4193-8988-a60bb2b224cb",
   "metadata": {},
   "source": [
    "# Data Science Tools and Ecosystem"
   ]
  },
  {
   "cell_type": "code",
   "execution_count": null,
   "id": "02460262-e0f0-4c20-a293-e7425eb7e322",
   "metadata": {},
   "outputs": [],
   "source": [
    "## In this notebook, Data Science Tools and Ecosystem are summarized. "
   ]
  },
  {
   "cell_type": "markdown",
   "id": "ebfddb9d-29cd-4a7d-a2ce-fa54c88ba263",
   "metadata": {},
   "source": [
    "## In this notebook, Data Science Tools and Ecosystem are summarized. "
   ]
  },
  {
   "cell_type": "markdown",
   "id": "9f39550a-6f9c-4b31-b26a-dad247e6ab00",
   "metadata": {},
   "source": [
    "## Some of the popular languages that Data Scientists use are:"
   ]
  },
  {
   "cell_type": "markdown",
   "id": "6ee2f93a-da36-4bf3-ab4b-a9aee127bc6e",
   "metadata": {},
   "source": [
    "## Some of the popular languages that Data Scientists use are:"
   ]
  },
  {
   "cell_type": "markdown",
   "id": "bc191519-0a28-4636-a91d-5a9db39be9ca",
   "metadata": {},
   "source": [
    "1. PYTHON\n",
    "2. R\n",
    "3. SQL"
   ]
  },
  {
   "cell_type": "markdown",
   "id": "50ed8f03-3648-4760-916f-9b15c3f7111d",
   "metadata": {},
   "source": [
    "# Some of the commonly used libraries used by Data Scientists include:\n"
   ]
  },
  {
   "cell_type": "markdown",
   "id": "a4487717-7d27-4ea3-b64b-0f5363d50231",
   "metadata": {},
   "source": [
    "# Some of the commonly used libraries used by Data Scientists include:"
   ]
  },
  {
   "cell_type": "markdown",
   "id": "84b08504-c3ae-4661-8c3d-bb3fc56f389e",
   "metadata": {},
   "source": [
    " 1. NUMPY\n",
    " 2. PANDAS\n",
    " 3. MATPLOTLIB"
   ]
  },
  {
   "cell_type": "markdown",
   "id": "7f1d181c-4fbd-4b39-ac4d-3911a9427acb",
   "metadata": {},
   "source": [
    "| Data Science Tools |\n",
    "|--------------------|\n",
    "| JUPYTERLAB         |\n",
    "| RSTUDIO            |\n",
    "| APACHE SPARK       |"
   ]
  },
  {
   "cell_type": "markdown",
   "id": "825b19e0-6dc3-4499-a57c-6f693e7e2933",
   "metadata": {},
   "source": [
    "| Data Science Tools |\n",
    "|--------------------|\n",
    "| JUPYTERLAB         |\n",
    "| RSTUDIO            |\n",
    "| APACHE SPARK       |"
   ]
  },
  {
   "cell_type": "markdown",
   "id": "9fe5a0c6-dcde-42ad-bc85-b27fc7a54284",
   "metadata": {},
   "source": [
    "###  Below are a few examples of evaluating arithmetic expressions in Python"
   ]
  },
  {
   "cell_type": "markdown",
   "id": "24163e86-9dc0-425a-95cb-fe64bf84d837",
   "metadata": {},
   "source": [
    "###  Below are a few examples of evaluating arithmetic expressions in Python"
   ]
  },
  {
   "cell_type": "code",
   "execution_count": 1,
   "id": "bc9313ba-f5cd-40d6-b322-62a397226024",
   "metadata": {
    "tags": []
   },
   "outputs": [
    {
     "data": {
      "text/plain": [
       "17"
      ]
     },
     "execution_count": 1,
     "metadata": {},
     "output_type": "execute_result"
    }
   ],
   "source": [
    "#This a simple arithmetic expression to mutiply then add integers\n",
    "(3*4)+5"
   ]
  },
  {
   "cell_type": "code",
   "execution_count": 7,
   "id": "c3c0d0d3-09b1-4293-80f5-ab78a18229ca",
   "metadata": {
    "tags": []
   },
   "outputs": [
    {
     "name": "stdout",
     "output_type": "stream",
     "text": [
      "200 minutes is converted into 3 hours\n"
     ]
    }
   ],
   "source": [
    "#This will convert 200 minutes to hours by diving by 60\n",
    "minutes = 200\n",
    "hours = minutes//60\n",
    "print(f\"{minutes} minutes is converted into {hours} hours\")"
   ]
  },
  {
   "cell_type": "markdown",
   "id": "570e4e30-90ed-41f7-8aad-3d1e03e0b30f",
   "metadata": {},
   "source": [
    "## OBJECTIVES"
   ]
  },
  {
   "cell_type": "markdown",
   "id": "aab6b1f4-287e-4886-b8bd-fe46fe35c46f",
   "metadata": {},
   "source": [
    "* PYTHON\n",
    "* R\n",
    "* SQL\n",
    "* SCALA\n",
    "* JULIA\n",
    "* MATLAB"
   ]
  },
  {
   "cell_type": "markdown",
   "id": "9b131f29-0671-4576-b155-209ccaa449e3",
   "metadata": {},
   "source": [
    "## AUTHOR\n",
    "BETRYS"
   ]
  },
  {
   "cell_type": "markdown",
   "id": "625d9348-7139-4bec-b69e-9ac14ae10827",
   "metadata": {},
   "source": [
    "## AUTHOR\n",
    "BETRYS"
   ]
  },
  {
   "cell_type": "code",
   "execution_count": null,
   "id": "5c77682d-e1ee-4009-b118-4b078422c298",
   "metadata": {},
   "outputs": [],
   "source": []
  }
 ],
 "metadata": {
  "kernelspec": {
   "display_name": "Python",
   "language": "python",
   "name": "conda-env-python-py"
  },
  "language_info": {
   "codemirror_mode": {
    "name": "ipython",
    "version": 3
   },
   "file_extension": ".py",
   "mimetype": "text/x-python",
   "name": "python",
   "nbconvert_exporter": "python",
   "pygments_lexer": "ipython3",
   "version": "3.7.12"
  }
 },
 "nbformat": 4,
 "nbformat_minor": 5
}
